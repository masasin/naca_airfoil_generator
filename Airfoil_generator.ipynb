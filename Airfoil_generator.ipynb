{
 "metadata": {
  "name": "",
  "signature": "sha256:3f5bac273c26b8e3c6fb2b3f4b336eca7bf8c2d000ae859addc5dde3ea31885b"
 },
 "nbformat": 3,
 "nbformat_minor": 0,
 "worksheets": [
  {
   "cells": [
    {
     "cell_type": "markdown",
     "metadata": {},
     "source": [
      "A [NACA airfoil](https://en.wikipedia.org/wiki/NACA_airfoil) is an airfoil shape completely described by a series of digits following the word \"NACA\". The airfoil cross-section can be generated, and its properties calculated, by entering the parameters from the digits into a series of equations.\n",
      "\n",
      "This notebook makes an interactive 4-digit NACA airfoil cross-section generator. 5- and 6-digit airfoils may be added in the future. I'm hoping that this notebook can also be used as a tutorial for using IPython widgets, so I'll detail everything step by step.\n",
      "\n",
      "First, we import packages necessary for interactivity."
     ]
    },
    {
     "cell_type": "code",
     "collapsed": false,
     "input": [
      "from IPython.html import widgets\n",
      "from IPython.display import display"
     ],
     "language": "python",
     "metadata": {},
     "outputs": [],
     "prompt_number": 16
    },
    {
     "cell_type": "markdown",
     "metadata": {},
     "source": [
      "Then, we import numpy for helping us do the calculations, and matplotlib for plotting. `%matplotlib inline` is used to keep the render the plot on the page, as opposed to opening a separate window."
     ]
    },
    {
     "cell_type": "code",
     "collapsed": false,
     "input": [
      "import numpy as np\n",
      "from matplotlib import pyplot as plt\n",
      "%matplotlib inline"
     ],
     "language": "python",
     "metadata": {},
     "outputs": [],
     "prompt_number": 2
    },
    {
     "cell_type": "markdown",
     "metadata": {},
     "source": [
      "Next, we create the airfoil generation function. It is based completely on the [Wikipedia page](https://en.wikipedia.org/wiki/NACA_airfoil). The docstring and comments are self-documenting."
     ]
    },
    {
     "cell_type": "code",
     "collapsed": false,
     "input": [
      "def make_airfoil(naca_number=None, thickness=None, chord_length=1000,\n",
      "                 increment=1, plot_to_length=None, is_sharp=True,\n",
      "                 show_legend=False, show_thickness=False):\n",
      "    \"\"\"Plot an airfoil.\n",
      "    \n",
      "    Any airfoil with a 4-digit NACA number, or a symmetric airfoil with a\n",
      "    specific thickness, can be used. Either the NACA number or the thickness\n",
      "    can be used at any given time.\n",
      "    \n",
      "    All other arguments are optional.\n",
      "    \n",
      "    Args:\n",
      "        naca_number: A 4-digit NACA number, entered as a string.\n",
      "        thickness: The desired thickness of a symmetric airfoil. The thickest\n",
      "            part will be at 30% of the chord.\n",
      "        chord_length: The length of the chord. Default is 1000.\n",
      "        increment: The size of each step. Default is 1.\n",
      "        plot_to_length: The length to plot until.\n",
      "        is_sharp: Whether the trailing edge will have zero thickness. Default\n",
      "            is True.\n",
      "        show_legend: Whether to display the legend when the airfoil is\n",
      "            asymmetric. Default is False.\n",
      "        show_thickness: Whether to display the non-cambered profile when the\n",
      "            airfoil is asymmetric. Default is False.\n",
      "    \"\"\"\n",
      "    # We first make sure that either the NACA number or the thickness is being\n",
      "    # used. If both are being used at the same time, raise an error. If\n",
      "    # neither, then work with the assumption that thickness is zero.\n",
      "    if naca_number and thickness:\n",
      "        raise ValueError(\"Only one type of input is allowed.\")\n",
      "    elif not naca_number and not thickness:\n",
      "        thickness = 0\n",
      "    \n",
      "    # Set the maximum length plotted to the full chord length if the stop point\n",
      "    # is not defined. Also set the length to which we calculate.\n",
      "    if not plot_to_length:\n",
      "        plot_to_length = chord_length\n",
      "    calculate_to = min(plot_to_length, chord_length)\n",
      "    \n",
      "    # Define the coefficients and powers used for the equation.\n",
      "    coeffs = [0.2969, -0.126, -0.3516, 0.2843,\n",
      "              -0.1036 if is_sharp else -0.1015]\n",
      "    powers = [0.5, 1, 2, 3, 4]\n",
      "    \n",
      "    # Interpret the NACA number\n",
      "    if naca_number:\n",
      "        try:\n",
      "            if len(naca_number) != 4:\n",
      "                raise NotImplementedError(\"Only 4-digit NACA numbers are \\\n",
      "                                           currently supported.\")\n",
      "            max_camber = float(naca_number[0]) / 100  # Airfoil cambered if 0.\n",
      "            camber_position = float(naca_number[1]) / 10\n",
      "            relative_thickness = float(naca_number[2:]) / 100\n",
      "        except ValueError:\n",
      "            raise ValueError(\"Invalid NACA number\")\n",
      "        except TypeError:\n",
      "            raise TypeError(\"Please input the NACA number as a string.\")\n",
      "        \n",
      "        thickness = relative_thickness * chord_length\n",
      "        is_symmetric = not max_camber\n",
      "        \n",
      "    else:  # Thickness was defined.\n",
      "        relative_thickness = thickness / chord_length\n",
      "        is_symmetric = True\n",
      "    \n",
      "    # Set up the arrays to hold points.\n",
      "    xs = np.arange(0, calculate_to + increment, increment)  # Centreline\n",
      "    x_tops = np.zeros_like(xs)\n",
      "    x_bots = np.zeros_like(xs)\n",
      "    y_tops = np.zeros_like(xs)\n",
      "    y_bots = np.zeros_like(xs)\n",
      "    if not is_symmetric:\n",
      "        camber_lines = np.zeros_like(xs)\n",
      "        if show_thickness:\n",
      "            half_thicknesses = np.zeros_like(xs)\n",
      "    \n",
      "    for point, x in enumerate(xs):\n",
      "        relative_position = x / chord_length\n",
      "        half_thickness = 5 * relative_thickness * chord_length * \\\n",
      "            sum(coeffs[i] * relative_position ** powers[i] for i in range(5))\n",
      "        \n",
      "        # Go through the formula.\n",
      "        if is_symmetric:\n",
      "            x_top = x_bot = x\n",
      "            y_top = half_thickness\n",
      "            y_bot = -y_top\n",
      "        \n",
      "        else:\n",
      "            if x < camber_position * chord_length:\n",
      "                camber_line = max_camber * (x / (camber_position**2)) * \\\n",
      "                    (2 * camber_position - relative_position)\n",
      "                slope = 2 * (max_camber / (camber_position**2)) * \\\n",
      "                    (camber_position - relative_position)\n",
      "            else:\n",
      "                camber_line = max_camber * \\\n",
      "                    ((chord_length - x) / ((1 - camber_position)**2)) * \\\n",
      "                    (1 + relative_position - 2*camber_position)\n",
      "                slope = 2 * max_camber / ((1 - camber_position)**2) * \\\n",
      "                    (camber_position - relative_position)\n",
      "            \n",
      "            angle = np.arctan(slope)\n",
      "            x_top = x - half_thickness * np.sin(angle)\n",
      "            x_bot = x + half_thickness * np.sin(angle)\n",
      "            y_top = camber_line + half_thickness * np.cos(angle)\n",
      "            y_bot = camber_line - half_thickness * np.cos(angle)\n",
      "            camber_lines[point] = camber_line\n",
      "            if show_thickness:\n",
      "                half_thicknesses[point] = half_thickness\n",
      "        \n",
      "        x_tops[point] = x_top\n",
      "        x_bots[point] = x_bot\n",
      "        y_tops[point] = y_top\n",
      "        y_bots[point] = y_bot\n",
      "    \n",
      "    # Plot the airfoil\n",
      "    plt.axis(\"equal\")\n",
      "    plt.xlim([0, plot_to_length])\n",
      "    if naca_number:\n",
      "        plt.title(\"NACA {} Airfoil\".format(naca_number))\n",
      "    else:\n",
      "        plt.title(\"Airfoil with thickness of {}\".format(thickness))\n",
      "    plt.plot(x_tops, y_tops, \"b\")\n",
      "    plt.plot(x_bots, y_bots, \"b\")\n",
      "    \n",
      "    # Allow showing thickness or the legend if airfoil is cambered.\n",
      "    if not is_symmetric:\n",
      "        plt.plot(xs, camber_lines, \"r\", label=\"Camber line\")\n",
      "        if show_thickness:\n",
      "            plt.plot(xs, half_thicknesses, \"g\", label=\"Thickness\")\n",
      "        if show_legend:\n",
      "            plt.legend(loc=\"best\")\n",
      "    \n",
      "    plt.show()"
     ],
     "language": "python",
     "metadata": {},
     "outputs": [],
     "prompt_number": 171
    },
    {
     "cell_type": "markdown",
     "metadata": {},
     "source": [
      "Now, we get to look at the interactivity.\n",
      "\n",
      "I want to have a dropdown menu to select whether the user wants to define a NACA airfoil, or define an airfoil thickness, with the thickest point at 30% of the length of the airfoil. Changing the mode displays different information. In addition, if the airfoil is cambered, we allow the user to show the legend and the thickness. We also allow the user to specify whether they want to cut the airfoil at a particular position.\n",
      "\n",
      "First, we create the input form as a container widget, and we create a variable to store the last known values of our parameters."
     ]
    },
    {
     "cell_type": "code",
     "collapsed": false,
     "input": [
      "form = widgets.ContainerWidget()\n",
      "last_value = {\"naca_number\": \"0012\", \"thickness\": 120, \"plot_to_length\": 1000}"
     ],
     "language": "python",
     "metadata": {},
     "outputs": [],
     "prompt_number": 172
    },
    {
     "cell_type": "markdown",
     "metadata": {},
     "source": [
      "Next, we create the dropdown menu, and the widgets allowing the user to write an arbitrary NACA number, or an arbitrary thickness.\n",
      "\n",
      "We also create a function so that, when the dropdown selection changes, the following happens:\n",
      "\n",
      "* Make the corresponding item visible, and the other item invisible.\n",
      "* Store the old value of the invisible item.\n",
      "* Set the old value to something that generates a `False`.\n",
      "* Recover the old value of the current selection.\n",
      "\n",
      "Finally, we register the callback to the function whenever `input_types` gets a new value.\n",
      "\n",
      "I would love to be able to set the description of the widgets to something other than the parameter name. For now, though, make sure that they are identical."
     ]
    },
    {
     "cell_type": "code",
     "collapsed": false,
     "input": [
      "input_types = widgets.DropdownWidget(values =\n",
      "                                     {\"Specify NACA airfoil\": \"naca_number\",\n",
      "                                      \"Specify thickness\": \"thickness\"},\n",
      "                                     value=\"naca_number\")\n",
      "\n",
      "# Set the NACA number visible by default.\n",
      "naca_number = widgets.TextWidget(description=\"naca_number\", value=\"0012\")\n",
      "naca_widgets = widgets.ContainerWidget(visible=True, children=[naca_number])\n",
      "\n",
      "# And the thickness selection invisible by default.\n",
      "thickness = widgets.FloatTextWidget(description=\"thickness\")\n",
      "thickness_widgets = widgets.ContainerWidget(visible=False,\n",
      "                                            children=[thickness])\n",
      "\n",
      "def on_type_change(name, value):\n",
      "    global last_value\n",
      "    if value == \"naca_number\":\n",
      "        naca_widgets.visible = True\n",
      "        thickness_widgets.visible = False\n",
      "        last_value[\"thickness\"] = thickness.value\n",
      "        thickness.value = 0\n",
      "        naca_number.value = last_value[\"naca_number\"]\n",
      "    if value == \"thickness\":\n",
      "        naca_widgets.visible = False\n",
      "        thickness_widgets.visible = True\n",
      "        last_value[\"naca_number\"] = naca_number.value\n",
      "        naca_number.value = \"\"\n",
      "        thickness.value = last_value[\"thickness\"]\n",
      "\n",
      "input_types.on_trait_change(on_type_change, \"value\")"
     ],
     "language": "python",
     "metadata": {},
     "outputs": [],
     "prompt_number": 192
    },
    {
     "cell_type": "markdown",
     "metadata": {},
     "source": [
      "Now, we make a slider in order to select the length to plot to. The slider should only be visible and in effect when the `cut_plot` checkbox is checked. If it is unchecked, the value is stored, and set to 0. The stored value is then recovered when `cut_plot` is checked again."
     ]
    },
    {
     "cell_type": "code",
     "collapsed": false,
     "input": [
      "cut_plot = widgets.CheckboxWidget(description=\"cut_plot\", value=False)\n",
      "\n",
      "plot_to_length = widgets.IntSliderWidget(description=\"plot_to_length\",\n",
      "                                         min=0, max=chord_length.value,\n",
      "                                         step=increment.value)\n",
      "\n",
      "cut_plot_widgets = widgets.ContainerWidget(visible=False,\n",
      "                                           children=[plot_to_length])\n",
      "\n",
      "def on_plot_cut_change(name, value):\n",
      "    global last_value\n",
      "    if value:\n",
      "        cut_plot_widgets.visible = True\n",
      "        plot_to_length.value = last_value[\"plot_to_length\"]\n",
      "    else:\n",
      "        cut_plot_widgets.visible = False\n",
      "        last_value[\"plot_to_length\"] = plot_to_length.value\n",
      "        plot_to_length.value = 0\n",
      "\n",
      "cut_plot.on_trait_change(on_plot_cut_change, \"value\")"
     ],
     "language": "python",
     "metadata": {},
     "outputs": [],
     "prompt_number": 193
    },
    {
     "cell_type": "markdown",
     "metadata": {},
     "source": [
      "We want the maximum value of the `plot_to_length` slider to change with the chord length, and the step to change with the increment."
     ]
    },
    {
     "cell_type": "code",
     "collapsed": false,
     "input": [
      "chord_length = widgets.FloatTextWidget(description=\"chord_length\", value=1000)\n",
      "\n",
      "def on_chord_length_change(name, value):\n",
      "    plot_to_length.max = value\n",
      "\n",
      "chord_length.on_trait_change(on_chord_length_change, \"value\")"
     ],
     "language": "python",
     "metadata": {},
     "outputs": [],
     "prompt_number": 194
    },
    {
     "cell_type": "code",
     "collapsed": false,
     "input": [
      "increment = widgets.FloatTextWidget(description=\"increment\", value=1)\n",
      "\n",
      "def on_increment_change(name, value):\n",
      "    plot_to_length.step = value\n",
      "\n",
      "increment.on_trait_change(on_increment_change, \"value\")"
     ],
     "language": "python",
     "metadata": {},
     "outputs": [],
     "prompt_number": 195
    },
    {
     "cell_type": "markdown",
     "metadata": {},
     "source": [
      "Then, we make it so that options for showing the legend and thickness are only displayed when the airfoil is asymmetrical."
     ]
    },
    {
     "cell_type": "code",
     "collapsed": false,
     "input": [
      "show_thickness = widgets.CheckboxWidget(description=\"show_thickness\",\n",
      "                                        value=False)\n",
      "show_legend = widgets.CheckboxWidget(description=\"show_legend\", value=False)\n",
      "plot_elements = widgets.ContainerWidget(visible=False,\n",
      "                                        children=[show_thickness, show_legend])\n",
      "\n",
      "def on_naca_number_change(name, value):\n",
      "    global last_value\n",
      "    if value and value[0] != \"0\":  # Cambered airfoil\n",
      "        plot_elements.visible = True\n",
      "    else:\n",
      "        plot_elements.visible = False\n",
      "\n",
      "naca_number.on_trait_change(on_naca_number_change, \"value\")"
     ],
     "language": "python",
     "metadata": {},
     "outputs": [],
     "prompt_number": 196
    },
    {
     "cell_type": "markdown",
     "metadata": {},
     "source": [
      "We're almost done. Now, we add the `is_sharp` option, and create the form."
     ]
    },
    {
     "cell_type": "code",
     "collapsed": false,
     "input": [
      "is_sharp = widgets.CheckboxWidget(description=\"is_sharp\", value=True)"
     ],
     "language": "python",
     "metadata": {},
     "outputs": [],
     "prompt_number": 197
    },
    {
     "cell_type": "code",
     "collapsed": false,
     "input": [
      "form.children = [input_types, naca_widgets, plot_elements,\n",
      "                 thickness_widgets,\n",
      "                 chord_length, increment, is_sharp,\n",
      "                 cut_plot, cut_plot_widgets]"
     ],
     "language": "python",
     "metadata": {},
     "outputs": [],
     "prompt_number": 198
    },
    {
     "cell_type": "markdown",
     "metadata": {},
     "source": [
      "Now that all parameters are accounted for, we have to display the form. Next, we run the generation function once so we can see the plot. And finally, we use the interactive function to give functionality to the form."
     ]
    },
    {
     "cell_type": "code",
     "collapsed": false,
     "input": [
      "display(form)\n",
      "\n",
      "make_airfoil(naca_number=\"0012\")\n",
      "                \n",
      "v = widgets.interactive(make_airfoil,\n",
      "                        naca_number=naca_number,\n",
      "                        thickness=thickness,\n",
      "                        chord_length=chord_length,\n",
      "                        plot_to_length=plot_to_length,\n",
      "                        increment=increment,\n",
      "                        is_sharp=is_sharp,\n",
      "                        show_thickness=show_thickness,\n",
      "                        show_legend=show_legend)"
     ],
     "language": "python",
     "metadata": {},
     "outputs": [
      {
       "metadata": {},
       "output_type": "display_data",
       "png": "[encoded data removed]",
       "text": [
        "<matplotlib.figure.Figure at 0x7f808031b898>"
       ]
      }
     ],
     "prompt_number": 199
    },
    {
     "cell_type": "markdown",
     "metadata": {},
     "source": [
      "I enjoyed making this, and I hope you find it useful."
     ]
    }
   ],
   "metadata": {}
  }
 ]
}
